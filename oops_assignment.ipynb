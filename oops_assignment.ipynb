{
  "nbformat": 4,
  "nbformat_minor": 0,
  "metadata": {
    "colab": {
      "provenance": []
    },
    "kernelspec": {
      "name": "python3",
      "display_name": "Python 3"
    },
    "language_info": {
      "name": "python"
    }
  },
  "cells": [
    {
      "cell_type": "markdown",
      "source": [
        "# 1. What is Object-Oriented Programming (OOP)?\n",
        "\n",
        "- object oriented programming is a programming style in python in which we arrange the code using object and class.\n",
        "\n",
        "# 2. What is a class in OOP?\n",
        "\n",
        "- class basically is a blueprint, we can make object through it, for example \"car\" is a class and we can make defferent cars (objects) like tata safari, mahindra tuv, suzuki alto etc.\n",
        "\n",
        "# 3. What is an object in OOP?\n",
        "\n",
        "- object in oop is a real world entity made from class like phone is a class and i phone, samsung and xiaomi are objects\n",
        "\n",
        "# 4. What is the difference between abstraction and encapsulation?\n",
        "\n",
        "-  abstraction and encapsulation both methods are related to hinding but there is difference between both methods while abstraction hides only unneeded details and complex implementation and encapsulation binds data and method and we can make private data or can make it private using \"__\" to private or \"_\" to protect\n",
        "\n",
        "# 5. What are dunder methods in Python?\n",
        "\n",
        "- dunder method or magical/special method in python are the method defined by built in class in python we define this type of methods for creating custom objects and implementing operator overloading in python.\n",
        "\n",
        "# 6.Explain the concept of inheritance in OOP\n",
        "\n",
        "- inheritance is basically a same concept as in real life but in oop derived class inherits from base class, when a derived class inherits it can access the method from base class.\n",
        "\n",
        "# 7. What is polymorphism in OOP?\n",
        "\n",
        "- polymorphism is a process in python which refers to an object taking several forms depending on the method or data method overloading and method overriding are the ways of polymorphism\n",
        "\n",
        "# 8. How is encapsulation achieved in Python?\n",
        "\n",
        "- to make an object private use \"__\" before any method variable or \"_\" to protect it\n",
        "\n",
        "# 9. What is a constructor in Python?\n",
        "\n",
        "- In Python, a constructor is a special method used to initialize an object when it's created.Python uses the __init__() method to define a constructor\n",
        "\n",
        "# 10. What are class and static methods in Python?\n",
        "\n",
        "- class  methods are bound to the class and access/modify methods and attributes associated to the class.\n",
        "\n",
        "- static method doesn't modify class or instance state, it behavees like a plain function that belongs to a class\n",
        "\n",
        "# 11. What is method overloading in Python?\n",
        "\n",
        "- In Python, if you define multiple methods with the same name in a class, the last definition will override the previous ones. however python doesn't support method overriding in traditional way, but it can be achieved using some methods e.g. (*args), (**kwargs)\n",
        "\n",
        "# 12. What is method overriding in OOP?\n",
        "\n",
        "- method overloading in python refers to an object taking several forms depending on the method/data. method overloading happens in thebsame class and the last method overloads previous ones in the same class\n",
        "\n",
        "# 13. What is a property decorator in Python?\n",
        "\n",
        "- property decorators allow you to use class method as attribute and make code look neat and well organized\n",
        "\n",
        "# 14. Why is polymorphism important in OOP?\n",
        "\n",
        "- Polymorphism is a fundamental concept in Object-Oriented Programming (OOP) that significantly enhances code flexibility, reusability, and maintainability.\n",
        "\n",
        "# 15. What is an abstract class in Python?\n",
        "\n",
        "- abstract class is a concept of hiding complex implementation, hiding unneeded details and exposing the data only which is required and also abstract class can not be instantiated  it always remain in subclass\n",
        "\n",
        "# 16. What are the advantages of OOP?\n",
        "\n",
        "- object oriented program is a programming style in which we arrange the code using object and class it makes code easy to access and also make it clean and decorates it and codes flexibility and reusability increases using oop system\n",
        "\n",
        "# 17. What is the difference between a class variable and an instance variable?\n",
        "\n",
        "- class variable are defined insida a class and they can be call from the class name and they share same name for all instances\n",
        "\n",
        "- instance variables are unique variable they are defined as __init__ with self keyword and they don't share data across all instances.\n",
        "\n",
        "# 18. What is multiple inheritance in Python?\n",
        "\n",
        "- multiple inheritance in python is same im real world when a class inherits from 2 or more classes it is called multiple inheritance\n",
        "\n",
        "# 19. Explain the purpose of \"\n",
        "__str_\n",
        "and\n",
        "_repr_.\n",
        "methods in Python.\n",
        "\n",
        "- in python \" __str__, __repr__\" are dunder or magic/special method use to make code loook more clean and user friendly when __str__ is use to make an object is an way that is easily understandable and __repr__ is use when you need a precise representation that can represent the code and this is developer friendly it helps to debug the code.\n",
        "\n",
        "# 20. What is the significance of the super()' function in Python?\n",
        "\n",
        "-  The super() function in Python is used to call a method from the parent (superclass) in a child (subclass). It is mainly used in inheritance to reuse methods of the parent class without explicitly naming it.\n",
        "\n",
        "\n",
        "# 21. What is the significance of the\n",
        "__del__ method in Python?\n",
        "\n",
        "-  __del__ is use to cleanup objects after they are used and no longer needed and other use of it is to close the file after use and many more...\n",
        "\n",
        "# 22. What is the difference between @staticmethod and @classmethod in Python?\n",
        "\n",
        "- @classmethod is bound to the class and can only access or modigy methods and attributes associated to the class\n",
        "\n",
        "- @staticmethod does not modify class or instance state it behaves like a plain function that belomgs to a class it does not access instance or class state.\n",
        "\n",
        "# 23. How does polymorphism work in Python with inheritance?\n",
        "\n",
        "- Polymorphism means \"one interface, multiple implementations\"—a function or method can behave differently for different classes. When combined with inheritance, polymorphism allows a child class to override a parent class method with its own custom behavior.\n",
        "\n",
        "# 24. What is method chaining in Python OOP?\n",
        "\n",
        "- Method Chaining in Python Object-Oriented Programming (OOP) is a technique where multiple methods are called on the same object in a single line. This is achieved by making each method return self, so the next method can be called directly.\n",
        "\n",
        "\n",
        "# 25. What is the purpose of the __call_. method in Python?\n",
        "\n",
        "- In Python, the __call__() method allows an instance of a class to be called like a function. This makes objects behave like functions, providing a flexible way to execute logic."
      ],
      "metadata": {
        "id": "SKszew9pBiER"
      }
    },
    {
      "cell_type": "code",
      "source": [
        "#practical questions\n",
        "#1. Create a parent class Animal with a method speak() that prints a generic message. Create a child class Dog that overrides the speak() method to print \"Bark!\".\n",
        "\n",
        "class animal:\n",
        "    def speak(self):\n",
        "        print(\"animal is creating a sound\")\n",
        "class dog(animal):\n",
        "    def speak(self):\n",
        "        print(\"dog is barking\")\n",
        "Dog = dog()\n",
        "Dog.speak()"
      ],
      "metadata": {
        "id": "_r5czxholxgK",
        "colab": {
          "base_uri": "https://localhost:8080/"
        },
        "outputId": "f91bd467-f1a7-44a3-bca4-ffd69233ab21"
      },
      "execution_count": null,
      "outputs": [
        {
          "output_type": "stream",
          "name": "stdout",
          "text": [
            "dog is barking\n"
          ]
        }
      ]
    },
    {
      "cell_type": "code",
      "source": [
        "# 2. Write a program to create an abstract class Shape with a method area(). Derive classes Circle and Rectangle from it and implement the area() method in both.\n",
        "\n",
        "import math\n",
        "class shape:\n",
        "    def area(self):\n",
        "        return 0\n",
        "class circle(shape):\n",
        "    def __init__(self, radius):\n",
        "        self.radius = radius\n",
        "    def area(self):\n",
        "        return math.pi * self.radius ** 2\n",
        "class rectangle(shape):\n",
        "    def __init__(self, length, width):\n",
        "        self.length = length\n",
        "        self.width = width\n",
        "    def area(self):\n",
        "        return self.length * self.width\n",
        "Circ = circle(5)\n",
        "rect = rectangle(5, 7)\n",
        "print(Circ.area())\n",
        "print(rect.area())"
      ],
      "metadata": {
        "id": "eJ05i_vdIWQz",
        "colab": {
          "base_uri": "https://localhost:8080/"
        },
        "outputId": "96d78dda-96c2-4eb8-db2b-faff1fc0f1d0"
      },
      "execution_count": null,
      "outputs": [
        {
          "output_type": "stream",
          "name": "stdout",
          "text": [
            "78.53981633974483\n",
            "35\n"
          ]
        }
      ]
    },
    {
      "cell_type": "code",
      "source": [
        "# 3. Implement a multi-level inheritance scenario where a class Vehicle has an attribute type. Derive a class Car and further derive a class ElectricCar that adds a battery attribute.\n",
        "\n",
        "class vehicle:\n",
        "    def __init__(self):\n",
        "        self.type = vehicle\n",
        "    def show_vehicle_type(self):\n",
        "        print(\"it's a vehicle\")\n",
        "class car(vehicle):\n",
        "    def __init__(self, brand):\n",
        "        super()__init__()\n",
        "        self.brand = brand\n",
        "    def type_car(self, brand):\n",
        "        self.brand = brand\n",
        "        print(f\" Car typ of {self.brand}\")\n",
        "class electric_car(car):\n",
        "    def battery_capac(self, battery):\n",
        "        self.battery = battery\n",
        "        print(f\"battery capacity is {self.battery} kw/h\")\n",
        "vehic = electric_car()\n",
        "vehic.vehicle_type()\n",
        "suzuki = car()\n",
        "suzuki.type_car(\"suv\")\n",
        "vehic.battery_capac(24)"
      ],
      "metadata": {
        "id": "JvNkfdfDIWiB",
        "colab": {
          "base_uri": "https://localhost:8080/"
        },
        "outputId": "32d444d6-1301-4569-cec3-dc9b6deece96"
      },
      "execution_count": null,
      "outputs": [
        {
          "output_type": "stream",
          "name": "stdout",
          "text": [
            "it's a vehicle\n",
            " Car typ of suv\n",
            "battery capacity is 24 kw/h\n"
          ]
        }
      ]
    },
    {
      "cell_type": "code",
      "source": [
        "# 4. Demonstrate polymorphism by creating a base class Bird with a method fly(). Create two derived classes Sparrow and Penguin that override the fly() method.\n",
        "class bird:\n",
        "    def fly(self):\n",
        "        print(\"flying bird\")\n",
        "class sparrow(bird):\n",
        "    def fly(self):\n",
        "        print(\"sparrow is flying\")\n",
        "class penguin(bird):\n",
        "    def fly(self):\n",
        "        print(\"Can't fly no wings\")\n",
        "def flying(bird):\n",
        "    bird.fly()\n",
        "Sparrow = sparrow()\n",
        "Penguin = penguin()\n",
        "flying(Sparrow)\n",
        "flying(Penguin)"
      ],
      "metadata": {
        "id": "EATjsJL4IXGA",
        "colab": {
          "base_uri": "https://localhost:8080/"
        },
        "outputId": "07e6faa2-d342-4f5b-8351-577c4f32d8b8"
      },
      "execution_count": null,
      "outputs": [
        {
          "output_type": "stream",
          "name": "stdout",
          "text": [
            "sparrow is flying\n",
            "Can't fly no wings\n"
          ]
        }
      ]
    },
    {
      "cell_type": "code",
      "source": [
        "# 5. Write a program to demonstrate encapsulation by creating a class BankAccount with private attributes balance and methods to deposit, withdraw, and check balance.\n",
        "class bankaccount:\n",
        "    def __init__(self, balance):\n",
        "        self.__balance = balance\n",
        "        print(f\"current balance in account is : {self.__balance}\")\n",
        "    def deposit(self, amount):\n",
        "        self.__balance += amount\n",
        "        print(f\"money deposited {amount} successfully current balance is {self.__balance}\")\n",
        "    def withdraw(self, amount):\n",
        "        self.__balance -= amount\n",
        "        print(f\" {amount} rupees withdrawn successfully, current balance is {self.__balance}\")\n",
        "    def get_balance(self):\n",
        "        return self.__balance\n",
        "act1 = bankaccount(1000)\n",
        "act1.deposit(500)\n",
        "act1.withdraw(300)\n",
        "act1.get_balance()"
      ],
      "metadata": {
        "id": "2yGqYzGpIXIi",
        "colab": {
          "base_uri": "https://localhost:8080/"
        },
        "outputId": "cd375748-cd55-4569-ee57-e4b7a889f125"
      },
      "execution_count": null,
      "outputs": [
        {
          "output_type": "stream",
          "name": "stdout",
          "text": [
            "current balance in account is : 1000\n",
            "money deposited 500 successfully current balance is 1500\n",
            " 300 rupees withdrawn successfully, current balance is 1200\n"
          ]
        },
        {
          "output_type": "execute_result",
          "data": {
            "text/plain": [
              "1200"
            ]
          },
          "metadata": {},
          "execution_count": 26
        }
      ]
    },
    {
      "cell_type": "code",
      "source": [
        "# 6. Demonstrate runtime polymorphism using a method play() in a base class Instrument. Derive classes Guitar and Piano that implement their own version of play().\n",
        "\n",
        "class instrument:\n",
        "    def play(self):\n",
        "        print(\"an instrument is playing\")\n",
        "class guitar(instrument):\n",
        "    def play(self):\n",
        "        print(\"guitar is playing\")\n",
        "class piano(instrument):\n",
        "    def play(self):\n",
        "        print(\"piano is playing\")\n",
        "def music_play(instrument):\n",
        "    instrument.play()\n",
        "Guitar = guitar()\n",
        "Piano = piano()\n",
        "music_play(Guitar)\n",
        "music_play(Piano)"
      ],
      "metadata": {
        "id": "2rELZappIXT6",
        "colab": {
          "base_uri": "https://localhost:8080/"
        },
        "outputId": "c86fb931-a5ba-4172-cae7-8c5ba2ac0133"
      },
      "execution_count": null,
      "outputs": [
        {
          "output_type": "stream",
          "name": "stdout",
          "text": [
            "guitar is playing\n",
            "piano is playing\n"
          ]
        }
      ]
    },
    {
      "cell_type": "code",
      "source": [
        "#7. Create a class MathOperations with a class method add_numbers() to add two numbers and a static method subtract_numbers() to subtract two numbers.\n",
        "\n",
        "class mathOperation:\n",
        "    @classmethod\n",
        "    def add_numbers(cls, a, b):\n",
        "        return a + b\n",
        "class mathoperation:\n",
        "    @staticmethod\n",
        "    def substract(a, b):\n",
        "        return a - b\n",
        "add = mathOperation.add_numbers(10, 5)\n",
        "subs = mathoperation.substract(10, 5)\n",
        "print(add)\n",
        "print(subs)"
      ],
      "metadata": {
        "id": "oPPl3uTeIXWT",
        "colab": {
          "base_uri": "https://localhost:8080/"
        },
        "outputId": "0a719893-c6c1-4a0a-f94b-509310c16bb0"
      },
      "execution_count": null,
      "outputs": [
        {
          "output_type": "stream",
          "name": "stdout",
          "text": [
            "15\n",
            "5\n"
          ]
        }
      ]
    },
    {
      "cell_type": "code",
      "source": [
        "# 8. Implement a class Person with a class method to count the total number of persons created.\n",
        "\n",
        "class person:\n",
        "    count = 0\n",
        "    def __init__(self, name):\n",
        "        self.name = name\n",
        "        person.count += 1\n",
        "    @classmethod\n",
        "    def get_total_person(cls):\n",
        "         return cls.count\n",
        "p1 = person(\"arman\")\n",
        "p2 = person(\"khan\")\n",
        "p2 = person(\"chetan\")\n",
        "p4 = person(\"mehra\")\n",
        "print(\"Total number of person created is:\", person.get_total_person())"
      ],
      "metadata": {
        "id": "wxWsHanUIWk_",
        "colab": {
          "base_uri": "https://localhost:8080/"
        },
        "outputId": "ab722744-1b6a-4c05-9d09-ee8441bdfa16"
      },
      "execution_count": null,
      "outputs": [
        {
          "output_type": "stream",
          "name": "stdout",
          "text": [
            "Total number of person created is: 4\n"
          ]
        }
      ]
    },
    {
      "cell_type": "code",
      "source": [
        "# 9. Write a class Fraction with attributes numerator and denominator. Override the str method to display the fraction as \"numerator/denominator\".\n",
        "\n",
        "class fraction:\n",
        "    def __init__(self, numerator, denominator):\n",
        "        self.numerator = numerator\n",
        "        self.denominator = denominator\n",
        "    def __str__(self):\n",
        "        return f\"{self.numerator} / {self.denominator}\"\n",
        "frac1 = fraction(3, 4)\n",
        "frac2 = fraction(5, 6)\n",
        "print(frac1)\n",
        "print(frac2)"
      ],
      "metadata": {
        "id": "BP1RAuuZIWnd",
        "colab": {
          "base_uri": "https://localhost:8080/"
        },
        "outputId": "aa6c11e7-151a-41ed-9fb5-9e239c53e3f3"
      },
      "execution_count": null,
      "outputs": [
        {
          "output_type": "stream",
          "name": "stdout",
          "text": [
            "3 / 4\n",
            "5 / 6\n"
          ]
        }
      ]
    },
    {
      "cell_type": "code",
      "source": [
        "# 10. Demonstrate operator overloading by creating a class Vector and overriding the add method to add two vectors.\n",
        "\n",
        "class Vector:\n",
        "    def __init__(self, x, y):\n",
        "        self.x = x\n",
        "        self.y = y\n",
        "    def __add__(self, other):\n",
        "        return Vector(self.x + other.x, self.y + other.y)\n",
        "    def __str__(self):\n",
        "        return f\"({self.x}, {self.y})\"\n",
        "v1 = Vector(2, 3)\n",
        "v2 = Vector(4, 5)\n",
        "v3 = v1 + v2\n",
        "print(\"Vector 1:\", v1)\n",
        "print(\"Vector 2:\", v2)\n",
        "print(\"Sum of Vectors:\", v3)"
      ],
      "metadata": {
        "id": "YzZLpo91IWqQ",
        "colab": {
          "base_uri": "https://localhost:8080/"
        },
        "outputId": "b2f76c56-af9a-4b97-be07-ac79659da679"
      },
      "execution_count": null,
      "outputs": [
        {
          "output_type": "stream",
          "name": "stdout",
          "text": [
            "Vector 1: (2, 3)\n",
            "Vector 2: (4, 5)\n",
            "Sum of Vectors: (6, 8)\n"
          ]
        }
      ]
    },
    {
      "cell_type": "code",
      "source": [
        "\n",
        "# 11. Create a class Person with attributes name and age. Add a method greet() that prints Hello, my name is{name} and am {age} years old.\"\n",
        "\n",
        "class person:\n",
        "    def __init__(self, name, age):\n",
        "        self.name = name\n",
        "        self.age = age\n",
        "    def greet(self):\n",
        "        print(f\"Hello my name is {self.name} and i am {self.age} years old!!\")\n",
        "pers1 = person(\"arman\", 21)\n",
        "pers1.greet()"
      ],
      "metadata": {
        "id": "6vsH-DmoIWtD",
        "colab": {
          "base_uri": "https://localhost:8080/"
        },
        "outputId": "c62fd3c4-f558-4786-ce19-bcb2e2398b50"
      },
      "execution_count": null,
      "outputs": [
        {
          "output_type": "stream",
          "name": "stdout",
          "text": [
            "Hello my name is arman and i am 21 years old!!\n"
          ]
        }
      ]
    },
    {
      "cell_type": "code",
      "source": [
        "# 12. Implement a class Student with attributes name and grades. Create a method average_grade() to compute the average of the grades.\n",
        "\n",
        "class student:\n",
        "    def __init__(self, name, grades):\n",
        "        self.name = name\n",
        "        self.grades = grades\n",
        "    def average_grade(self):\n",
        "        if len(self.grades) == 0:\n",
        "            return 0\n",
        "        return sum(self.grades) / len(self.grades)\n",
        "    def __str__(self):\n",
        "        return f\" Student: {self.name}, avarage grade {self.average_grade():.2f}\"\n",
        "s1 = student(\"Arman\", [95, 90, 98])\n",
        "s2 = student(\"Chetan\", [92, 88, 95, 85])\n",
        "print(s1)\n",
        "print(s2)"
      ],
      "metadata": {
        "id": "6DB5eRGtlxat",
        "colab": {
          "base_uri": "https://localhost:8080/"
        },
        "outputId": "11984d52-26fc-4d7e-ac2d-0c5626735b81"
      },
      "execution_count": null,
      "outputs": [
        {
          "output_type": "stream",
          "name": "stdout",
          "text": [
            " Student: Arman, avarage grade 94.33\n",
            " Student: Chetan, avarage grade 90.00\n"
          ]
        }
      ]
    },
    {
      "cell_type": "markdown",
      "source": [],
      "metadata": {
        "id": "fM9dwtWqldw0"
      }
    },
    {
      "cell_type": "code",
      "execution_count": null,
      "metadata": {
        "id": "hcc-qJFblTft",
        "colab": {
          "base_uri": "https://localhost:8080/"
        },
        "outputId": "cd39be72-b79a-4557-df90-aa58702e6a28"
      },
      "outputs": [
        {
          "output_type": "stream",
          "name": "stdout",
          "text": [
            "Rectangle with Length: 5, Width: 10, Area: 50\n"
          ]
        }
      ],
      "source": [
        "# 13. Create a class Rectangle with methods set_dimensions() to set the dimensions and area() to calculate the area.\n",
        "\n",
        "class Rectangle:\n",
        "    def __init__(self):\n",
        "        self.length = 0\n",
        "        self.width = 0\n",
        "    def set_dimensions(self, length, width):\n",
        "        self.length = length\n",
        "        self.width = width\n",
        "    def area(self):\n",
        "        return self.length * self.width\n",
        "    def __str__(self):\n",
        "        return f\"Rectangle with Length: {self.length}, Width: {self.width}, Area: {self.area()}\"\n",
        "rect = Rectangle()\n",
        "rect.set_dimensions(5, 10)\n",
        "print(rect)"
      ]
    },
    {
      "cell_type": "code",
      "source": [
        "# 14. Create a class Employee with a method calculate_ salary() that computes the salary based on hours worked and hourly rate. Create a derived class Manager that adds o bonus to the\n",
        "\n",
        "class Employee:\n",
        "    def __init__(self, name, hours_worked, hourly_rate):\n",
        "        self.name = name\n",
        "        self.hours_worked = hours_worked\n",
        "        self.hourly_rate = hourly_rate\n",
        "    def calculate_salary(self):\n",
        "        return self.hours_worked * self.hourly_rate\n",
        "    def __str__(self):\n",
        "        return f\"Employee: {self.name}, Salary: {self.calculate_salary()}\"\n",
        "class Manager(Employee):\n",
        "    def __init__(self, name, hours_worked, hourly_rate, bonus):\n",
        "        super().__init__(name, hours_worked, hourly_rate)\n",
        "        self.bonus = bonus\n",
        "    def calculate_salary(self):\n",
        "        return super().calculate_salary() + self.bonus\n",
        "    def __str__(self):\n",
        "        return f\"Manager: {self.name}, Salary: {self.calculate_salary()}\"\n",
        "emp = Employee(\"Arman\", 40, 20)\n",
        "mgr = Manager(\"Chetan\", 45, 30, 500)\n",
        "print(emp)\n",
        "print(mgr)"
      ],
      "metadata": {
        "colab": {
          "base_uri": "https://localhost:8080/"
        },
        "id": "99Qr7QXPznyG",
        "outputId": "e6d3d808-1424-4779-b6f1-78b5360ac5e5"
      },
      "execution_count": null,
      "outputs": [
        {
          "output_type": "stream",
          "name": "stdout",
          "text": [
            "Employee: Arman, Salary: 800\n",
            "Manager: Chetan, Salary: 1850\n"
          ]
        }
      ]
    },
    {
      "cell_type": "code",
      "source": [
        "# 15. Create a class Product with attributes name, price, and quantity. Implement a method total_ price() that calculates the total price of the product.\n",
        "\n",
        "class product:\n",
        "    def __init__(self, name, price, quantity):\n",
        "        self.name = name\n",
        "        self.price = price\n",
        "        self.quantity = quantity\n",
        "    def total_price(self):\n",
        "        return (self.price) * (self.quantity)\n",
        "    def __str__(self):\n",
        "        return f\" Product name : {self.name}, Price : {self.price}, Quantity: {self.quantity}, Total amount is : {self.total_price()}\"\n",
        "p1 = product(\"creatin\", 400, 2)\n",
        "p2 = product(\"chocolate\", 100, 3)\n",
        "p3 = product(\"lenskart_specs\", 1650, 2)\n",
        "p4 = product(\"oats\", 200, 3)\n",
        "\n",
        "print(p1)\n",
        "print(p2)\n",
        "print(p3)\n",
        "print(p4)"
      ],
      "metadata": {
        "colab": {
          "base_uri": "https://localhost:8080/"
        },
        "id": "CA3lGdqh4rsd",
        "outputId": "662f4ee6-2342-442c-bf60-254a17d6408a"
      },
      "execution_count": null,
      "outputs": [
        {
          "output_type": "stream",
          "name": "stdout",
          "text": [
            " Product name : creatin, Price : 400, Quantity: 2, Total amount is : 800\n",
            " Product name : chocolate, Price : 100, Quantity: 3, Total amount is : 300\n",
            " Product name : lenskart_specs, Price : 1650, Quantity: 2, Total amount is : 3300\n",
            " Product name : oats, Price : 200, Quantity: 3, Total amount is : 600\n"
          ]
        }
      ]
    },
    {
      "cell_type": "code",
      "source": [
        "# 16. Create a class Animal with an abstract method sound(). Create two derived classes Cow and Sheep that implement the sound() method.\n",
        "from abc import ABC, abstractmethod\n",
        "class animal(ABC):\n",
        "    @abstractmethod\n",
        "    def sound(self):\n",
        "        pass\n",
        "class cow(animal):\n",
        "    def sound(self):\n",
        "        return \"cow's sound\"\n",
        "class sheep(animal):\n",
        "    def sound(self):\n",
        "        return \" sheep's sound\"\n",
        "\n",
        "c1 = cow()\n",
        "s1 = sheep()\n",
        "print(s1.sound())\n",
        "print(c1.sound())"
      ],
      "metadata": {
        "colab": {
          "base_uri": "https://localhost:8080/"
        },
        "id": "3YGQMBFS4r4o",
        "outputId": "f75945ea-a641-41ee-920d-cb8c257af16e"
      },
      "execution_count": null,
      "outputs": [
        {
          "output_type": "stream",
          "name": "stdout",
          "text": [
            " sheep's sound\n",
            "cow's sound\n"
          ]
        }
      ]
    },
    {
      "cell_type": "code",
      "source": [
        "# 17. Create a class Book with attributes title, author,and year_published. Add a method get_book_info() that returns formatted string with the book's details.\n",
        "\n",
        "class book:\n",
        "    def __init__(self, title, author, year_of_published):\n",
        "        self.title = title\n",
        "        self.author = author\n",
        "        self.year_of_published = year_of_published\n",
        "    def get_book_info(self):\n",
        "        return f\" Title of book : {self.title}, Author of book : {self.author}, Year of publish : {self.year_of_published}\"\n",
        "book1 = book(\"gaban\", \"premchand\", 1960)\n",
        "print(book1.get_book_info())"
      ],
      "metadata": {
        "id": "ipLBcV1l4sDZ",
        "colab": {
          "base_uri": "https://localhost:8080/"
        },
        "outputId": "ab9d596f-60f1-4f46-e32b-7e3c6ee7e1ea"
      },
      "execution_count": null,
      "outputs": [
        {
          "output_type": "stream",
          "name": "stdout",
          "text": [
            " Title of book : gaban, Author of book : premchand, Year of publish : 1960\n"
          ]
        }
      ]
    },
    {
      "cell_type": "code",
      "source": [
        "# 18. Create a class House with attributes address and price. Create a derived class Mansion that adds an attribute number_of_rooms.\n",
        "\n",
        "class house:\n",
        "    def __init__(self, address, price):\n",
        "        self.address = address\n",
        "        self.price = price\n",
        "    def get_info(self):\n",
        "        return f\" House in : {self.address}, price : {self.price} is available to own\"\n",
        "class mansion(house):\n",
        "    def __init__(self, address, price, no_rooms):\n",
        "        super().__init__(address, price)\n",
        "        self.no_rooms = no_rooms\n",
        "    def get_info(self):\n",
        "        return f\" mansion in : {self.address}, price : {self.price}, Total Rooms : {self.no_rooms} is available to own\"\n",
        "house1 = house(\"delhi\", 2000000)\n",
        "mansion1 = mansion(\"jaipur\", 150000000, 20)\n",
        "print(house1.get_info())\n",
        "print(mansion1.get_info())"
      ],
      "metadata": {
        "id": "-J-xa6KKzn09",
        "colab": {
          "base_uri": "https://localhost:8080/"
        },
        "outputId": "15856835-c335-4ca3-e5a6-794eda960691"
      },
      "execution_count": null,
      "outputs": [
        {
          "output_type": "stream",
          "name": "stdout",
          "text": [
            " House in : delhi, price : 2000000 is available to own\n",
            " mansion in : jaipur, price : 150000000, Total Rooms : 20 is available to own\n"
          ]
        }
      ]
    }
  ]
}