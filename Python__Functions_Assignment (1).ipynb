{
  "nbformat": 4,
  "nbformat_minor": 0,
  "metadata": {
    "colab": {
      "provenance": []
    },
    "kernelspec": {
      "name": "python3",
      "display_name": "Python 3"
    },
    "language_info": {
      "name": "python"
    }
  },
  "cells": [
    {
      "cell_type": "markdown",
      "source": [
        "#   ---------------Python Functions---------------\n",
        "\n",
        "\n",
        "\n",
        "1. What is the difference between a function and a method in Python?\n",
        "\n",
        " * Function: A standalone block of code that performs a specific task. It's called independently.\n",
        "   * Example: len(\"hello\")\n",
        " * Method: A function associated with an object. It operates on the object's data.\n",
        "   * Example: \"hello\".upper()\n",
        "\n",
        "\n",
        "2. Explain the concept of function arguments and parameters in Python.\n",
        "\n",
        " * Parameters: Variables listed inside the parentheses in the function definition. They act as placeholders for values the function expects.\n",
        " * Arguments: The actual values passed to the function when it's called. They fill the parameter placeholders.\n",
        "   * Example:\n",
        "     def greet(name):  # 'name' is the parameter\n",
        "    print(f\"Hello, {name}!\")\n",
        "\n",
        "greet(\"Alice\")  # \"Alice\" is the argument\n",
        "\n",
        "\n",
        "3. What are the different ways to define and call a function in Python?\n",
        "\n",
        " * Define:\n",
        "   * Using the def keyword: def my_function(): ...\n",
        "   * Using lambda expressions (anonymous functions): lambda x: x * 2\n",
        " * Call:\n",
        "   * Using the function name followed by parentheses: my_function()\n",
        "   * Passing arguments within the parentheses: my_function(arg1, arg2)\n",
        "\n",
        "\n",
        "4. What is the purpose of the return statement in a Python function?\n",
        "\n",
        " * The return statement ends the function's execution and sends a value back to the caller. If no value is specified, it returns None.\n",
        "\n",
        "\n",
        "5. What are iterators in Python and how do they differ from iterables?\n",
        "\n",
        " * Iterable: An object that can be looped over (e.g., lists, strings). It can produce an iterator.\n",
        " * Iterator: An object that produces values one at a time using _next_(). It remembers its state.\n",
        "   * Difference: Iterables can be converted into iterators using iter(). Iterators are consumed as they are used.\n",
        "\n",
        "\n",
        "6. Explain the concept of generators in Python and how they are defined.\n",
        "\n",
        " * Generator: A function that returns an iterator. It uses the yield keyword to produce values on demand, pausing and resuming execution.\n",
        " * Definition: Similar to a function, but uses yield instead of return.\n",
        "   * Example:\n",
        "     def count_up_to(n):\n",
        "    i = 1\n",
        "    while i <= n:\n",
        "        yield i\n",
        "        i += 1\n",
        "\n",
        "\n",
        "7. What are the advantages of using generators over regular functions?\n",
        "\n",
        " * Memory Efficiency: Generators produce values on demand, saving memory, especially for large datasets.\n",
        " * Lazy Evaluation: Values are generated only when needed, improving performance.\n",
        " * Better Readability: Can simplify code for complex iterations.\n",
        "\n",
        "\n",
        "8. What is a lambda function in Python and when is it typically used?\n",
        "\n",
        " * Lambda Function: An anonymous, small, inline function defined using the lambda keyword.\n",
        " * Usage: Typically used for short, simple operations where a full function definition is unnecessary.\n",
        "   * Example: lambda x: x * 2 (doubles a number).\n",
        "\n",
        "\n",
        "9. Explain the purpose and usage of the map() function in Python.\n",
        "\n",
        " * Purpose: Applies a function to each item of an iterable and returns an iterator of the results.\n",
        " * Usage: map(function, iterable)\n",
        "   * Example: map(lambda x: x**2, [1, 2, 3]) (squares each number in the list).\n",
        "\n",
        "\n",
        "10. What is the difference between map(), reduce(), and filter() functions in Python?\n",
        "\n",
        " * map(): Applies a function to each item and returns a new iterable of the transformed items.\n",
        " * reduce(): Applies a function cumulatively to the items of an iterable, reducing it to a single value. (Requires functools module in Python 3).\n",
        " * filter(): Creates a new iterable with items for which a function returns True.\n",
        "\n",
        "\n",
        "11. Using pen & Paper write the internal mechanism for sum operation using reduce function on this given list: [47,11,42,13];\n",
        "\n",
        " * Paper Explanation :\n",
        "\n",
        "   * Initial: reduce starts with the first two elements: 47 and 11.\n",
        "   * Step 1: 47 + 11 = 58. The result (58) becomes the first argument for the next step.\n",
        "   * Step 2: 58 + 42 = 100. The result (100) becomes the first argument for the next step.\n",
        "   * Step 3: 100 + 13 = 113. The final result is 113.\n",
        "\n",
        "   Python Code :\n",
        "\n",
        "   from functools import reduce\n",
        "   numbers = [47, 11, 42, 13]\n",
        "   total = reduce(lambda x, y: x + y, numbers)\n",
        "   print(total)\n",
        "   \n",
        "   # Output: 113\n",
        "\n"
      ],
      "metadata": {
        "id": "v-G6697cA2BC"
      }
    },
    {
      "cell_type": "code",
      "source": [
        "#1. Write a Python function that takes a list of numbers as input and returns the sum of all even numbers in the list.\n",
        "\n",
        "def sum_even(numbers):\n",
        "    return sum(num for num in numbers if num % 2 == 0)\n",
        "\n",
        "sum_even([1, 2, 3, 4, 5, 6])"
      ],
      "metadata": {
        "colab": {
          "base_uri": "https://localhost:8080/"
        },
        "id": "j8ajtJaCBA3G",
        "outputId": "92265717-8df0-4e61-a537-570de2974c22"
      },
      "execution_count": 3,
      "outputs": [
        {
          "output_type": "execute_result",
          "data": {
            "text/plain": [
              "12"
            ]
          },
          "metadata": {},
          "execution_count": 3
        }
      ]
    },
    {
      "cell_type": "code",
      "source": [
        "#2. Create a Python function that accepts a string and returns the reverse of that string.\n",
        "\n",
        "def reverse_string(s):\n",
        "    return s[::-1]\n",
        "\n",
        "reverse_string(\"hello\")"
      ],
      "metadata": {
        "colab": {
          "base_uri": "https://localhost:8080/",
          "height": 36
        },
        "id": "HK-yIa6aBJ3w",
        "outputId": "cab0fb2d-7901-4073-a315-245a16e164d5"
      },
      "execution_count": 4,
      "outputs": [
        {
          "output_type": "execute_result",
          "data": {
            "text/plain": [
              "'olleh'"
            ],
            "application/vnd.google.colaboratory.intrinsic+json": {
              "type": "string"
            }
          },
          "metadata": {},
          "execution_count": 4
        }
      ]
    },
    {
      "cell_type": "code",
      "source": [
        "#3.  Implement a Python function that takes a list of integers and returns a new list containing the squares of each number.\n",
        "\n",
        "def square_numbers(numbers):\n",
        "    return [num ** 2 for num in numbers]\n",
        "\n",
        "square_numbers([1, 2, 3, 4, 5])\n"
      ],
      "metadata": {
        "colab": {
          "base_uri": "https://localhost:8080/"
        },
        "id": "sPMZhSpTBOGG",
        "outputId": "4d014b1d-864b-4ada-d521-a7d077753894"
      },
      "execution_count": 5,
      "outputs": [
        {
          "output_type": "execute_result",
          "data": {
            "text/plain": [
              "[1, 4, 9, 16, 25]"
            ]
          },
          "metadata": {},
          "execution_count": 5
        }
      ]
    },
    {
      "cell_type": "code",
      "source": [
        "#4. Write a Python function that checks if a given number is prime or not from 1 to 200.\n",
        "\n",
        "def is_prime(n):\n",
        "    if n <= 1:\n",
        "        return False\n",
        "    for i in range(2, int(n**0.5) + 1):\n",
        "        if n % i == 0:\n",
        "            return False\n",
        "    return True\n",
        "\n",
        "is_prime(17)"
      ],
      "metadata": {
        "colab": {
          "base_uri": "https://localhost:8080/"
        },
        "id": "1UBafEHLBR2y",
        "outputId": "4472697c-f471-4771-ca3b-ab03b70779c1"
      },
      "execution_count": 6,
      "outputs": [
        {
          "output_type": "execute_result",
          "data": {
            "text/plain": [
              "True"
            ]
          },
          "metadata": {},
          "execution_count": 6
        }
      ]
    },
    {
      "cell_type": "code",
      "source": [
        "#5.  Create an iterator class in Python that generates the Fibonacci sequence up to a specified number of terms.\n",
        "\n",
        "class Fibonacci:\n",
        "    def __init__(self, limit):\n",
        "        self.limit = limit\n",
        "        self.a, self.b = 0, 1\n",
        "        self.count = 0\n",
        "\n",
        "    def __iter__(self):\n",
        "        return self\n",
        "\n",
        "    def __next__(self):\n",
        "        if self.count < self.limit:\n",
        "            result = self.a\n",
        "            self.a, self.b = self.b, self.a + self.b\n",
        "            self.count += 1\n",
        "            return result\n",
        "        else:\n",
        "            raise StopIteration\n",
        "\n",
        "\n",
        "fib = Fibonacci(5)\n",
        "print(list(fib))"
      ],
      "metadata": {
        "colab": {
          "base_uri": "https://localhost:8080/"
        },
        "id": "rV8q3sGOBWYj",
        "outputId": "cc587f47-c7a8-479a-a025-3ec29f0d68ad"
      },
      "execution_count": 7,
      "outputs": [
        {
          "output_type": "stream",
          "name": "stdout",
          "text": [
            "[0, 1, 1, 2, 3]\n"
          ]
        }
      ]
    },
    {
      "cell_type": "code",
      "source": [
        "#6. Write a generator function in Python that yields the powers of 2 up to a given exponent.\n",
        "\n",
        "def powers_of_2(exponent):\n",
        "    for i in range(exponent + 1):\n",
        "        yield 2 ** i\n",
        "\n",
        "list(powers_of_2(3))"
      ],
      "metadata": {
        "colab": {
          "base_uri": "https://localhost:8080/"
        },
        "id": "Vg2pZzJFBZpK",
        "outputId": "ffadefe7-9afb-44f0-b144-de046efd5ca4"
      },
      "execution_count": 8,
      "outputs": [
        {
          "output_type": "execute_result",
          "data": {
            "text/plain": [
              "[1, 2, 4, 8]"
            ]
          },
          "metadata": {},
          "execution_count": 8
        }
      ]
    },
    {
      "cell_type": "code",
      "source": [
        "#7. Implement a generator function that reads a file line by line and yields each line as a string.\n",
        "\n",
        "def read_lines(filename):\n",
        "\n",
        "    try:\n",
        "        with open(filename, 'r') as file:\n",
        "            for line in file:\n",
        "                yield line\n",
        "    except FileNotFoundError:\n",
        "        print(f\"Error: File '{filename}' not found.\")\n",
        "\n",
        "filename = 'file.txt'\n",
        "try:\n",
        "    for line in read_lines(filename):\n",
        "        print(line.strip())\n",
        "except FileNotFoundError:\n",
        "    print(f\"Error: File '{filename}' not found.\")"
      ],
      "metadata": {
        "colab": {
          "base_uri": "https://localhost:8080/"
        },
        "id": "HSaDjNh6BblS",
        "outputId": "b30f8937-d46d-4309-8bf8-bea073dbec5f"
      },
      "execution_count": 9,
      "outputs": [
        {
          "output_type": "stream",
          "name": "stdout",
          "text": [
            "Error: File 'file.txt' not found.\n"
          ]
        }
      ]
    },
    {
      "cell_type": "code",
      "source": [
        "#8. Use a lambda function in Python to sort a list of tuples based on the second element of each tuple.\n",
        "\n",
        "data = [(1, 5), (3, 2), (2, 8), (4, 1)]\n",
        "sorted_data = sorted(data, key=lambda x: x[1])\n",
        "print(sorted_data)"
      ],
      "metadata": {
        "colab": {
          "base_uri": "https://localhost:8080/"
        },
        "id": "tz-sMZLxBdkG",
        "outputId": "d23e253f-8437-492e-9790-6b024f0ae25b"
      },
      "execution_count": 11,
      "outputs": [
        {
          "output_type": "stream",
          "name": "stdout",
          "text": [
            "[(4, 1), (3, 2), (1, 5), (2, 8)]\n"
          ]
        }
      ]
    },
    {
      "cell_type": "code",
      "source": [
        "#9. Write a Python program that uses `map()` to convert a list of temperatures from Celsius to Fahrenheit.\n",
        "\n",
        "celsius_temperatures = [0, 10, 20, 30, 40]\n",
        "fahrenheit_temperatures = list(map(lambda c: (c * 9/5) + 32, celsius_temperatures))\n",
        "print(fahrenheit_temperatures)"
      ],
      "metadata": {
        "colab": {
          "base_uri": "https://localhost:8080/"
        },
        "id": "I5sDn0rIBfmS",
        "outputId": "79c55742-ab03-49b4-d7d4-90dcaa945aaf"
      },
      "execution_count": 10,
      "outputs": [
        {
          "output_type": "stream",
          "name": "stdout",
          "text": [
            "[32.0, 50.0, 68.0, 86.0, 104.0]\n"
          ]
        }
      ]
    },
    {
      "cell_type": "code",
      "source": [
        "#10. Create a Python program that uses `filter()` to remove all the vowels from a given string.\n",
        "\n",
        "def remove_vowels(s):\n",
        "    vowels = \"aeiouAEIOU\"\n",
        "    return \"\".join(filter(lambda char: char not in vowels, s))\n",
        "\n",
        "remove_vowels(\"Hello World\")"
      ],
      "metadata": {
        "colab": {
          "base_uri": "https://localhost:8080/",
          "height": 36
        },
        "id": "kQEJpXf0Bivb",
        "outputId": "05f1a3e6-7cab-467f-b93b-37cc4268b642"
      },
      "execution_count": 12,
      "outputs": [
        {
          "output_type": "execute_result",
          "data": {
            "text/plain": [
              "'Hll Wrld'"
            ],
            "application/vnd.google.colaboratory.intrinsic+json": {
              "type": "string"
            }
          },
          "metadata": {},
          "execution_count": 12
        }
      ]
    },
    {
      "cell_type": "code",
      "source": [
        "#11.Imagine an accounting routine used in a book shop. It works on a list with sublists, which look like this:\n",
        "# Write a Python program, which returns a list with 2-tuples. Each tuple consists of the order number and the\n",
        "# product of the price per item and the quantity. The product should be increased by 10,- € if the value of the\n",
        "# order is smaller than 100,00 €.\n",
        "\n",
        "# Write a Python program using lambda and map.\n",
        "\n",
        "\n",
        "orders = [\n",
        "    [34587, \"Learning Python, Mark Lutz\", 4, 40.95],\n",
        "    [98762, \"Programming Python, Mark Lutz\", 5, 56.80],\n",
        "    [77226, \"Head First Python, Paul Barry\", 3, 32.95],\n",
        "    [88112, \"Einführung in Python3, Bernd Klein\", 3, 24.99]\n",
        "]\n",
        "\n",
        "result = list(map(lambda order: (order[0], order[2] * order[3] + 10 if order[2] * order[3] < 100 else order[2] * order[3]), orders))\n",
        "\n",
        "result"
      ],
      "metadata": {
        "colab": {
          "base_uri": "https://localhost:8080/"
        },
        "id": "WnZyO2qdBksB",
        "outputId": "2610c413-d6d8-4515-8b04-bd0953e5be0d"
      },
      "execution_count": 13,
      "outputs": [
        {
          "output_type": "execute_result",
          "data": {
            "text/plain": [
              "[(34587, 163.8), (98762, 284.0), (77226, 108.85000000000001), (88112, 84.97)]"
            ]
          },
          "metadata": {},
          "execution_count": 13
        }
      ]
    }
  ]
}