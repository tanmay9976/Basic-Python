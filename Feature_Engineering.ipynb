{
  "nbformat": 4,
  "nbformat_minor": 0,
  "metadata": {
    "colab": {
      "provenance": []
    },
    "kernelspec": {
      "name": "python3",
      "display_name": "Python 3"
    },
    "language_info": {
      "name": "python"
    }
  },
  "cells": [
    {
      "cell_type": "markdown",
      "source": [
        "1  .What is a parameter?\n",
        "\n",
        "- A parameter is a value the model learns during training, like weights in a linear regression."
      ],
      "metadata": {
        "id": "Uj3ISrHrZIwR"
      }
    },
    {
      "cell_type": "markdown",
      "source": [
        "2 What is correlation?\n",
        "\n",
        "- Correlation shows how two variables are related — whether they increase or decrease together.\n",
        "\n"
      ],
      "metadata": {
        "id": "M9jpVZM_ZqLm"
      }
    },
    {
      "cell_type": "markdown",
      "source": [
        "3 What does negative correlation mean?\n",
        "\n",
        "- **It** means that as one variable increases, the other decreases."
      ],
      "metadata": {
        "id": "pXvXkK3fZxZm"
      }
    },
    {
      "cell_type": "markdown",
      "source": [
        "4 Define Machine Learning. What are the main components in Machine Learning?\n",
        "\n",
        "- Machine Learning is when computers learn from data to make predictions. Key components: data, model, algorithm, and evaluation."
      ],
      "metadata": {
        "id": "gb4HPghfaDb-"
      }
    },
    {
      "cell_type": "markdown",
      "source": [
        "5  How does loss value help in determining whether the model is good or not?\n",
        "\n",
        "- Loss shows prediction error. Lower loss means a better model."
      ],
      "metadata": {
        "id": "EYHNpwZJaJK-"
      }
    },
    {
      "cell_type": "markdown",
      "source": [
        "6.What are continuous and categorical variables?\n",
        "\n",
        "- Continuous: numeric values (e.g., income). Categorical: group values (e.g., color, gender).\n",
        "\n"
      ],
      "metadata": {
        "id": "V8KsjHx7aTxt"
      }
    },
    {
      "cell_type": "markdown",
      "source": [
        "7.How do we handle categorical variables in Machine Learning? What are the common techniques?\n",
        "\n",
        "- We convert them to numbers using techniques like One-Hot Encoding or Label Encoding.\n",
        "\n"
      ],
      "metadata": {
        "id": "f2h8lNmZaahl"
      }
    },
    {
      "cell_type": "markdown",
      "source": [
        "8.What do you mean by training and testing a dataset?\n",
        "\n",
        "- Training data teaches the model. Testing data checks how well it learned."
      ],
      "metadata": {
        "id": "KV7va4nsafzm"
      }
    },
    {
      "cell_type": "markdown",
      "source": [
        "9.What is sklearn.preprocessing?\n",
        "\n",
        "- A module in scikit-learn for data preparation like scaling and encoding."
      ],
      "metadata": {
        "id": "71ToDTGOalKF"
      }
    },
    {
      "cell_type": "markdown",
      "source": [
        "10.What is a Test set?\n",
        "\n",
        "- A separate dataset used to check model performance after training."
      ],
      "metadata": {
        "id": "Vs4B8XqVapiN"
      }
    },
    {
      "cell_type": "code",
      "execution_count": null,
      "metadata": {
        "id": "YcKvE0KTZG20"
      },
      "outputs": [],
      "source": []
    },
    {
      "cell_type": "markdown",
      "source": [
        "11.How do we split data for model fitting (training and testing) in Python?\n",
        "\n",
        "- Use train_test_split() from sklearn.model_selection."
      ],
      "metadata": {
        "id": "4nCJFpftatlP"
      }
    },
    {
      "cell_type": "markdown",
      "source": [
        "12.How do you approach a Machine Learning problem?\n",
        "\n",
        "- Understand problem → Collect data → Clean & explore data → Choose model → Train → Evaluate → Improve.\n",
        "\n"
      ],
      "metadata": {
        "id": "bi0gczmta0AN"
      }
    },
    {
      "cell_type": "markdown",
      "source": [
        "13.Why do we have to perform EDA before fitting a model to the data?\n",
        "\n",
        "- EDA helps us understand the data, spot patterns, and handle missing or incorrect values.\n",
        "\n"
      ],
      "metadata": {
        "id": "kd4YhHySa6vd"
      }
    },
    {
      "cell_type": "markdown",
      "source": [
        "14.What is correlation?\n",
        "\n",
        "- It shows how two variables are related."
      ],
      "metadata": {
        "id": "PJE7qhnkaeNW"
      }
    },
    {
      "cell_type": "markdown",
      "source": [
        "15.What does negative correlation mean?\n",
        "\n",
        "- One variable increases while the other decreases."
      ],
      "metadata": {
        "id": "UiZQbJ5BbDUt"
      }
    },
    {
      "cell_type": "markdown",
      "source": [
        "16.How can you find correlation between variables in Python?\n",
        "\n",
        "- Use df.corr() in pandas or seaborn.heatmap(df.corr()) for visuals."
      ],
      "metadata": {
        "id": "4_iwqlFsbHol"
      }
    },
    {
      "cell_type": "markdown",
      "source": [
        "17.What is causation? Explain difference between correlation and causation with an example.\n",
        "\n",
        "- Causation means one variable causes another to change. Example: Studying causes better grades (causation), while ice cream sales and drowning have correlation, not causation."
      ],
      "metadata": {
        "id": "Y7t725HBbMGF"
      }
    },
    {
      "cell_type": "markdown",
      "source": [
        "18.What is an Optimizer? What are different types of optimizers? Explain each with an example.\n",
        "\n",
        "- Optimizers adjust model parameters to reduce error. Examples:\n",
        "\n",
        "SGD: updates with each sample.\n",
        "\n",
        "Adam: adapts learning rate and combines momentum."
      ],
      "metadata": {
        "id": "MwijrX3YbQBl"
      }
    },
    {
      "cell_type": "markdown",
      "source": [
        "19.What is sklearn.linear_model ?\n",
        "\n",
        "- A module for linear models like Linear and Logistic Regression."
      ],
      "metadata": {
        "id": "HAIjHrqpbXzG"
      }
    },
    {
      "cell_type": "markdown",
      "source": [
        "20.What does model.fit() do? What arguments must be given?\n",
        "\n",
        "- It trains the model. You need input features (X) and target labels (y)."
      ],
      "metadata": {
        "id": "NiDQab3LbdiF"
      }
    },
    {
      "cell_type": "markdown",
      "source": [
        "21.What does model.predict() do? What arguments must be given?\n",
        "\n",
        "- It makes predictions. You give it new input data (X)."
      ],
      "metadata": {
        "id": "rf46oHktbhyV"
      }
    },
    {
      "cell_type": "markdown",
      "source": [
        "22.What are continuous and categorical variables?\n",
        "\n",
        "- Continuous: measurable (e.g., height). Categorical: labels or categories (e.g., city)."
      ],
      "metadata": {
        "id": "Htv4-4Y3blCO"
      }
    },
    {
      "cell_type": "markdown",
      "source": [
        "23.What is feature scaling? How does it help in Machine Learning?\n",
        "\n",
        "- It adjusts feature values to the same range. Helps models converge faster and improve accuracy.\n",
        "\n"
      ],
      "metadata": {
        "id": "5R2HGXe_box1"
      }
    },
    {
      "cell_type": "markdown",
      "source": [
        "24.How do we perform scaling in Python?\n",
        "\n",
        "- Use StandardScaler() or MinMaxScaler() from sklearn.preprocessing."
      ],
      "metadata": {
        "id": "TxsHI58CbtTN"
      }
    },
    {
      "cell_type": "markdown",
      "source": [
        "25.What is sklearn.preprocessing?\n",
        "\n",
        "- It’s a module for transforming data — scaling, encoding, normalization.\n",
        "\n"
      ],
      "metadata": {
        "id": "aablRzoybw29"
      }
    },
    {
      "cell_type": "markdown",
      "source": [
        "26.How do we split data for model fitting (training and testing) in Python?\n",
        "\n",
        "- Use train_test_split(X, y, test_size=0.2) from sklearn.model_selection."
      ],
      "metadata": {
        "id": "0CJQdpRGb1cW"
      }
    },
    {
      "cell_type": "markdown",
      "source": [
        "27.Explain data encoding?\n",
        "\n",
        "- Data encoding converts categorical variables into numeric form, using methods like Label Encoding or One-Hot Encoding."
      ],
      "metadata": {
        "id": "JidQqF5Rb8g-"
      }
    },
    {
      "cell_type": "markdown",
      "source": [],
      "metadata": {
        "id": "js8Sh2ZFa9Bd"
      }
    }
  ]
}