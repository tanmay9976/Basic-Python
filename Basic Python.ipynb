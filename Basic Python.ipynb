{
  "nbformat": 4,
  "nbformat_minor": 0,
  "metadata": {
    "colab": {
      "provenance": []
    },
    "kernelspec": {
      "name": "python3",
      "display_name": "Python 3"
    },
    "language_info": {
      "name": "python"
    }
  },
  "cells": [
    {
      "cell_type": "code",
      "execution_count": 1,
      "metadata": {
        "colab": {
          "base_uri": "https://localhost:8080/"
        },
        "id": "xOlm_tHQOfto",
        "outputId": "55348c83-9d9f-4c35-eb77-d6e80d3d86ee"
      },
      "outputs": [
        {
          "output_type": "stream",
          "name": "stdout",
          "text": [
            "Hello, World\n",
            "\n"
          ]
        }
      ],
      "source": [
        "1 #Write a Python program to print \"Hello, World\n",
        "print(\"Hello, World\")\n",
        "print()\n"
      ]
    },
    {
      "cell_type": "code",
      "source": [
        "2. #Write a Python program that displays your name and age\n",
        "name = \"Roy\"\n",
        "age = 55\n",
        "\n",
        "print(\"Name:\", name)\n",
        "print(\"Age:\", age)\n",
        "print ()"
      ],
      "metadata": {
        "colab": {
          "base_uri": "https://localhost:8080/"
        },
        "id": "XDASeyeOO5wN",
        "outputId": "1bc347e7-f021-42f1-db6b-9e5dc6396c64"
      },
      "execution_count": 4,
      "outputs": [
        {
          "output_type": "stream",
          "name": "stdout",
          "text": [
            "Name: Roy\n",
            "Age: 55\n",
            "\n"
          ]
        }
      ]
    },
    {
      "cell_type": "code",
      "source": [
        "3. #Write code to print all the pre-defined keywords in Python using the keyword library\n",
        "import keyword\n",
        "# Get a list of all keywords\n",
        "keywords = keyword.kwlist\n",
        "# Print the keywords\n",
        "print(\"Python Predefined Keywords:\")\n",
        "for kw in keywords:\n",
        "    print(kw)"
      ],
      "metadata": {
        "colab": {
          "base_uri": "https://localhost:8080/"
        },
        "id": "CCHSSq0JPF88",
        "outputId": "e057fd35-4c9b-4121-a744-8b81a4007017"
      },
      "execution_count": 5,
      "outputs": [
        {
          "output_type": "stream",
          "name": "stdout",
          "text": [
            "Python Predefined Keywords:\n",
            "False\n",
            "None\n",
            "True\n",
            "and\n",
            "as\n",
            "assert\n",
            "async\n",
            "await\n",
            "break\n",
            "class\n",
            "continue\n",
            "def\n",
            "del\n",
            "elif\n",
            "else\n",
            "except\n",
            "finally\n",
            "for\n",
            "from\n",
            "global\n",
            "if\n",
            "import\n",
            "in\n",
            "is\n",
            "lambda\n",
            "nonlocal\n",
            "not\n",
            "or\n",
            "pass\n",
            "raise\n",
            "return\n",
            "try\n",
            "while\n",
            "with\n",
            "yield\n"
          ]
        }
      ]
    },
    {
      "cell_type": "code",
      "source": [
        "4. #Write a program that checks if a given word is a Python keyword\n",
        "import keyword\n",
        "\n",
        "# Function to check if the word is a Python keyword\n",
        "def check_keyword(word):\n",
        "    if keyword.iskeyword(word):\n",
        "        print(f\"'{word}' is a Python keyword.\")\n",
        "    else:\n",
        "        print(f\"'{word}' is not a Python keyword.\")\n"
      ],
      "metadata": {
        "id": "NeUMEdfxPam9"
      },
      "execution_count": 13,
      "outputs": []
    },
    {
      "cell_type": "code",
      "source": [
        "5. #Create a list and tuple in Python, and demonstrate how attempting to change an element works differently\n",
        "\n",
        "my_list = [10, 20, 30, 40]\n",
        "my_tuple = (10, 20, 30, 40)\n",
        "\n",
        "\n",
        "print(\"Original List:\", my_list)\n",
        "my_list[1] = 99  # Changing the second element of the list\n",
        "print(\"List after modification:\", my_list)\n",
        "\n",
        "\n",
        "print(\"\\nOriginal Tuple:\", my_tuple)\n",
        "try:\n",
        "    my_tuple[1] = 99\n",
        "except TypeError as e:\n",
        "    print(\"Error:\", e)\n"
      ],
      "metadata": {
        "colab": {
          "base_uri": "https://localhost:8080/"
        },
        "id": "PJULmWb1PjiE",
        "outputId": "a2daf3b1-5579-46a7-cf5e-263cf6f2ed0e"
      },
      "execution_count": 9,
      "outputs": [
        {
          "output_type": "stream",
          "name": "stdout",
          "text": [
            "Original List: [10, 20, 30, 40]\n",
            "List after modification: [10, 99, 30, 40]\n",
            "\n",
            "Original Tuple: (10, 20, 30, 40)\n",
            "Error: 'tuple' object does not support item assignment\n"
          ]
        }
      ]
    },
    {
      "cell_type": "code",
      "source": [
        "6. #Write a function to demonstrate the behavior of mutable and immutable arguments\n",
        "def demonstrate_mutable_immutable(mutable_arg, immutable_arg):\n",
        "    print(\"Before modification:\")\n",
        "    print(\"Mutable argument:\", mutable_arg)\n",
        "    print(\"Immutable argument:\", immutable_arg)\n",
        "\n",
        "    # Modifying the mutable argument (list)\n",
        "    mutable_arg.append(100)\n",
        "\n",
        "    # Modifying the immutable argument (string)\n",
        "    immutable_arg = \"Modified String\"\n",
        "\n",
        "    print(\"\\nAfter modification:\")\n",
        "    print(\"Mutable argument:\", mutable_arg)  # The list is modified\n",
        "    print(\"Immutable argument:\", immutable_arg)  # The string is not modified outside the function\n",
        "\n",
        "\n",
        "# Example usage\n",
        "mutable = [1, 2, 3]\n",
        "immutable = \"Original String\"\n",
        "\n",
        "demonstrate_mutable_immutable(mutable, immutable)"
      ],
      "metadata": {
        "colab": {
          "base_uri": "https://localhost:8080/"
        },
        "id": "iCIqDRVqPjrd",
        "outputId": "bab9357f-f9a6-4e30-88dc-ef02b9d396b2"
      },
      "execution_count": 14,
      "outputs": [
        {
          "output_type": "stream",
          "name": "stdout",
          "text": [
            "Before modification:\n",
            "Mutable argument: [1, 2, 3]\n",
            "Immutable argument: Original String\n",
            "\n",
            "After modification:\n",
            "Mutable argument: [1, 2, 3, 100]\n",
            "Immutable argument: Modified String\n"
          ]
        }
      ]
    },
    {
      "cell_type": "code",
      "source": [
        "7. # Write a function to demonstrate the behavior of mutable and immutable arguments\n",
        "def demonstrate_mutable_immutable(mutable_arg, immutable_arg):\n",
        "    print(\"Before modification:\")\n",
        "    print(\"Mutable argument:\", mutable_arg)\n",
        "    print(\"Immutable argument:\", immutable_arg)\n",
        "\n",
        "    # Modifying the mutable argument (list)\n",
        "    mutable_arg.append(100)\n",
        "\n",
        "    # Modifying the immutable argument (string)\n",
        "    immutable_arg = \"Modified String\"\n",
        "\n",
        "    print(\"\\nAfter modification:\")\n",
        "    print(\"Mutable argument:\", mutable_arg)  # The list is modified\n",
        "    print(\"Immutable argument:\", immutable_arg)  # The string is not modified outside the function\n",
        "\n",
        "\n",
        "# Example usage\n",
        "mutable = [1, 2, 3]  # List (mutable)\n",
        "immutable = \"Original String\"  # String (immutable)\n",
        "\n",
        "demonstrate_mutable_immutable(mutable, immutable)"
      ],
      "metadata": {
        "colab": {
          "base_uri": "https://localhost:8080/"
        },
        "id": "bgispJn_Pjvt",
        "outputId": "c4da0a35-39e8-47ee-ce1a-a3fd2be8e082"
      },
      "execution_count": 15,
      "outputs": [
        {
          "output_type": "stream",
          "name": "stdout",
          "text": [
            "Before modification:\n",
            "Mutable argument: [1, 2, 3]\n",
            "Immutable argument: Original String\n",
            "\n",
            "After modification:\n",
            "Mutable argument: [1, 2, 3, 100]\n",
            "Immutable argument: Modified String\n"
          ]
        }
      ]
    },
    {
      "cell_type": "code",
      "source": [
        "8. #Write a program to demonstrate the use of logical operators\n",
        "# Function to demonstrate logical operators\n",
        "def demonstrate_logical_operators(a, b):\n",
        "    print(f\"Given a = {a} and b = {b}\")\n",
        "\n",
        "    # Using 'and' operator (both conditions must be True)\n",
        "    print(f\"a > 5 and b < 10: {a > 5 and b < 10}\")\n",
        "\n",
        "    # Using 'or' operator (either condition can be True)\n",
        "    print(f\"a > 5 or b < 10: {a > 5 or b < 10}\")\n",
        "\n",
        "    # Using 'not' operator (negates the condition)\n",
        "    print(f\"not(a > 5): {not (a > 5)}\")\n"
      ],
      "metadata": {
        "id": "DVBoA7mGPjzF"
      },
      "execution_count": 21,
      "outputs": []
    },
    {
      "cell_type": "code",
      "source": [
        "9.# Write a Python program to convert user input from string to integer, float, and boolean types\n",
        "# Function to convert user input to different data types\n",
        "def convert_input():\n",
        "    user_input = input(\"Enter a value: \")\n",
        "\n",
        "    # Convert to integer\n",
        "    try:\n",
        "        int_value = int(user_input)\n",
        "        print(f\"Converted to integer: {int_value}\")\n",
        "    except ValueError:\n",
        "        print(\"Input is not a valid integer.\")\n",
        "\n",
        "    # Convert to float\n",
        "    try:\n",
        "        float_value = float(user_input)\n",
        "        print(f\"Converted to float: {float_value}\")\n",
        "    except ValueError:\n",
        "        print(\"Input is not a valid float.\")\n",
        "\n",
        "    # Convert to boolean\n",
        "    if user_input.lower() in ['true', '1', 't', 'y', 'yes']:\n",
        "        bool_value = True\n",
        "    elif user_input.lower() in ['false', '0', 'f', 'n', 'no']:\n",
        "        bool_value = False\n",
        "    else:\n",
        "        bool_value = bool(user_input)  # Default boolean conversion (non-empty string is True)\n",
        "    print(f\"Converted to boolean: {bool_value}\")"
      ],
      "metadata": {
        "id": "5BLLdIhaPn6U"
      },
      "execution_count": 22,
      "outputs": []
    },
    {
      "cell_type": "code",
      "source": [
        "10.#Write code to demonstrate type casting with list elements\n",
        "# Function to demonstrate type casting with list elements\n",
        "def demonstrate_type_casting():\n",
        "    # Create a list with different types of elements\n",
        "    mixed_list = ['1', '2', '3.5', 'True', '4']\n",
        "\n",
        "    # Convert all string elements to integers (if possible)\n",
        "    int_list = [int(i) if i.isdigit() else i for i in mixed_list]\n",
        "\n",
        "    # Convert string numbers to float (if possible)\n",
        "    float_list = [float(i) if i.replace('.', '', 1).isdigit() else i for i in mixed_list]\n",
        "\n",
        "    # Convert 'True'/'False' string to boolean\n",
        "    bool_list = [True if i.lower() == 'true' else False if i.lower() == 'false' else i for i in mixed_list]\n",
        "\n",
        "    # Print the original and casted lists\n",
        "    print(\"Original mixed list:\", mixed_list)\n",
        "    print(\"List after converting to integers where possible:\", int_list)\n",
        "    print(\"List after converting to floats where possible:\", float_list)\n",
        "    print(\"List after converting 'True'/'False' to booleans:\", bool_list)\n",
        "\n",
        "# Example usage\n",
        "demonstrate_type_casting()\n"
      ],
      "metadata": {
        "colab": {
          "base_uri": "https://localhost:8080/"
        },
        "id": "5IMXk8SAPoBl",
        "outputId": "bada110b-3d88-4295-bce3-8b9bf3e8896d"
      },
      "execution_count": 23,
      "outputs": [
        {
          "output_type": "stream",
          "name": "stdout",
          "text": [
            "Original mixed list: ['1', '2', '3.5', 'True', '4']\n",
            "List after converting to integers where possible: [1, 2, '3.5', 'True', 4]\n",
            "List after converting to floats where possible: [1.0, 2.0, 3.5, 'True', 4.0]\n",
            "List after converting 'True'/'False' to booleans: ['1', '2', '3.5', True, '4']\n"
          ]
        }
      ]
    },
    {
      "cell_type": "code",
      "source": [
        "11.#Write a program that checks if a number is positive, negative, or zero\n",
        "\n",
        "def check_number(num):\n",
        "    if num > 0:\n",
        "        print(f\"{num} is a positive number.\")\n",
        "    elif num < 0:\n",
        "        print(f\"{num} is a negative number.\")\n",
        "    else:\n",
        "        print(f\"{num} is zero.\")\n",
        "\n",
        "number = float(input(\"Enter a number: \"))  # Input is taken as a float to handle both integer and decimal numbers\n",
        "check_number(number)\n"
      ],
      "metadata": {
        "colab": {
          "base_uri": "https://localhost:8080/"
        },
        "id": "GW0Us50rPoJl",
        "outputId": "b9211f5b-0c25-4a03-800e-b21285186ce6"
      },
      "execution_count": 25,
      "outputs": [
        {
          "output_type": "stream",
          "name": "stdout",
          "text": [
            "Enter a number: 1\n",
            "1.0 is a positive number.\n"
          ]
        }
      ]
    },
    {
      "cell_type": "code",
      "source": [
        "12. #Write a for loop to print numbers from 1 to 10\n",
        "# Using a for loop to print numbers from 1 to 10\n",
        "for i in range(1, 11):\n",
        "    print(i)\n"
      ],
      "metadata": {
        "colab": {
          "base_uri": "https://localhost:8080/"
        },
        "id": "hxQAqaiPPoP_",
        "outputId": "ff851cf0-e44d-4fac-a1d4-43149547a92c"
      },
      "execution_count": 26,
      "outputs": [
        {
          "output_type": "stream",
          "name": "stdout",
          "text": [
            "1\n",
            "2\n",
            "3\n",
            "4\n",
            "5\n",
            "6\n",
            "7\n",
            "8\n",
            "9\n",
            "10\n"
          ]
        }
      ]
    },
    {
      "cell_type": "code",
      "source": [
        "13. # Write a Python program to find the sum of all even numbers between 1 and 50\n",
        "\n",
        "sum_of_evens = 0\n",
        "\n",
        "for num in range(1, 51):\n",
        "\n",
        "    if num % 2 == 0:\n",
        "        sum_of_evens += num  # Add the even number to the sum\n",
        "\n",
        "print(\"The sum of all even numbers between 1 and 50 is:\", sum_of_evens)\n"
      ],
      "metadata": {
        "colab": {
          "base_uri": "https://localhost:8080/"
        },
        "id": "24zjXKehPoW1",
        "outputId": "0b0c45be-ed26-4b66-dac6-71bc9e293a93"
      },
      "execution_count": 29,
      "outputs": [
        {
          "output_type": "stream",
          "name": "stdout",
          "text": [
            "The sum of all even numbers between 1 and 50 is: 650\n"
          ]
        }
      ]
    },
    {
      "cell_type": "code",
      "source": [
        "14. #Write a program to reverse a string using a while loop\n",
        "\n",
        "# Function to reverse a string using a while loop\n",
        "def reverse_string(input_string):\n",
        "    # Initialize an empty string to store the reversed string\n",
        "    reversed_string = ''\n",
        "\n",
        "    # Initialize the index to the last character of the input string\n",
        "    index = len(input_string) - 1\n",
        "\n",
        "    # Use a while loop to iterate through the string in reverse\n",
        "    while index >= 0:\n",
        "        reversed_string += input_string[index]  # Add the character to the reversed string\n",
        "        index -= 1  # Decrease the index to move to the previous character\n",
        "\n",
        "    return reversed_string\n",
        "\n",
        "# Example usage\n",
        "input_string = input(\"Enter a string to reverse: \")\n",
        "print(\"Reversed string:\", reverse_string(input_string))\n",
        "\n"
      ],
      "metadata": {
        "colab": {
          "base_uri": "https://localhost:8080/",
          "height": 356
        },
        "id": "BR5hWsx9PodE",
        "outputId": "b0cb207a-f23a-4c78-a91f-7a3040c556a0"
      },
      "execution_count": 32,
      "outputs": [
        {
          "output_type": "error",
          "ename": "KeyboardInterrupt",
          "evalue": "Interrupted by user",
          "traceback": [
            "\u001b[0;31m---------------------------------------------------------------------------\u001b[0m",
            "\u001b[0;31mKeyboardInterrupt\u001b[0m                         Traceback (most recent call last)",
            "\u001b[0;32m<ipython-input-32-8b5922241823>\u001b[0m in \u001b[0;36m<cell line: 0>\u001b[0;34m()\u001b[0m\n\u001b[1;32m     17\u001b[0m \u001b[0;34m\u001b[0m\u001b[0m\n\u001b[1;32m     18\u001b[0m \u001b[0;31m# Example usage\u001b[0m\u001b[0;34m\u001b[0m\u001b[0;34m\u001b[0m\u001b[0m\n\u001b[0;32m---> 19\u001b[0;31m \u001b[0minput_string\u001b[0m \u001b[0;34m=\u001b[0m \u001b[0minput\u001b[0m\u001b[0;34m(\u001b[0m\u001b[0;34m\"Enter a string to reverse: \"\u001b[0m\u001b[0;34m)\u001b[0m\u001b[0;34m\u001b[0m\u001b[0;34m\u001b[0m\u001b[0m\n\u001b[0m\u001b[1;32m     20\u001b[0m \u001b[0mprint\u001b[0m\u001b[0;34m(\u001b[0m\u001b[0;34m\"Reversed string:\"\u001b[0m\u001b[0;34m,\u001b[0m \u001b[0mreverse_string\u001b[0m\u001b[0;34m(\u001b[0m\u001b[0minput_string\u001b[0m\u001b[0;34m)\u001b[0m\u001b[0;34m)\u001b[0m\u001b[0;34m\u001b[0m\u001b[0;34m\u001b[0m\u001b[0m\n\u001b[1;32m     21\u001b[0m \u001b[0;34m\u001b[0m\u001b[0m\n",
            "\u001b[0;32m/usr/local/lib/python3.11/dist-packages/ipykernel/kernelbase.py\u001b[0m in \u001b[0;36mraw_input\u001b[0;34m(self, prompt)\u001b[0m\n\u001b[1;32m   1175\u001b[0m                 \u001b[0;34m\"raw_input was called, but this frontend does not support input requests.\"\u001b[0m\u001b[0;34m\u001b[0m\u001b[0;34m\u001b[0m\u001b[0m\n\u001b[1;32m   1176\u001b[0m             )\n\u001b[0;32m-> 1177\u001b[0;31m         return self._input_request(\n\u001b[0m\u001b[1;32m   1178\u001b[0m             \u001b[0mstr\u001b[0m\u001b[0;34m(\u001b[0m\u001b[0mprompt\u001b[0m\u001b[0;34m)\u001b[0m\u001b[0;34m,\u001b[0m\u001b[0;34m\u001b[0m\u001b[0;34m\u001b[0m\u001b[0m\n\u001b[1;32m   1179\u001b[0m             \u001b[0mself\u001b[0m\u001b[0;34m.\u001b[0m\u001b[0m_parent_ident\u001b[0m\u001b[0;34m[\u001b[0m\u001b[0;34m\"shell\"\u001b[0m\u001b[0;34m]\u001b[0m\u001b[0;34m,\u001b[0m\u001b[0;34m\u001b[0m\u001b[0;34m\u001b[0m\u001b[0m\n",
            "\u001b[0;32m/usr/local/lib/python3.11/dist-packages/ipykernel/kernelbase.py\u001b[0m in \u001b[0;36m_input_request\u001b[0;34m(self, prompt, ident, parent, password)\u001b[0m\n\u001b[1;32m   1217\u001b[0m             \u001b[0;32mexcept\u001b[0m \u001b[0mKeyboardInterrupt\u001b[0m\u001b[0;34m:\u001b[0m\u001b[0;34m\u001b[0m\u001b[0;34m\u001b[0m\u001b[0m\n\u001b[1;32m   1218\u001b[0m                 \u001b[0;31m# re-raise KeyboardInterrupt, to truncate traceback\u001b[0m\u001b[0;34m\u001b[0m\u001b[0;34m\u001b[0m\u001b[0m\n\u001b[0;32m-> 1219\u001b[0;31m                 \u001b[0;32mraise\u001b[0m \u001b[0mKeyboardInterrupt\u001b[0m\u001b[0;34m(\u001b[0m\u001b[0;34m\"Interrupted by user\"\u001b[0m\u001b[0;34m)\u001b[0m \u001b[0;32mfrom\u001b[0m \u001b[0;32mNone\u001b[0m\u001b[0;34m\u001b[0m\u001b[0;34m\u001b[0m\u001b[0m\n\u001b[0m\u001b[1;32m   1220\u001b[0m             \u001b[0;32mexcept\u001b[0m \u001b[0mException\u001b[0m\u001b[0;34m:\u001b[0m\u001b[0;34m\u001b[0m\u001b[0;34m\u001b[0m\u001b[0m\n\u001b[1;32m   1221\u001b[0m                 \u001b[0mself\u001b[0m\u001b[0;34m.\u001b[0m\u001b[0mlog\u001b[0m\u001b[0;34m.\u001b[0m\u001b[0mwarning\u001b[0m\u001b[0;34m(\u001b[0m\u001b[0;34m\"Invalid Message:\"\u001b[0m\u001b[0;34m,\u001b[0m \u001b[0mexc_info\u001b[0m\u001b[0;34m=\u001b[0m\u001b[0;32mTrue\u001b[0m\u001b[0;34m)\u001b[0m\u001b[0;34m\u001b[0m\u001b[0;34m\u001b[0m\u001b[0m\n",
            "\u001b[0;31mKeyboardInterrupt\u001b[0m: Interrupted by user"
          ]
        }
      ]
    },
    {
      "cell_type": "code",
      "source": [
        "15. #Write a Python program to calculate the factorial of a number provided by the user using a while loop\n",
        "# Function to calculate the factorial using a while loop\n",
        "def calculate_factorial(num):\n",
        "    # Initialize the factorial variable\n",
        "    factorial = 1\n",
        "\n",
        "    # Handle the case for non-negative integers\n",
        "    if num < 0:\n",
        "        return \"Factorial does not exist for negative numbers.\"\n",
        "\n",
        "    # Use a while loop to calculate the factorial\n",
        "    while num > 1:\n",
        "        factorial *= num  # Multiply current number with factorial\n",
        "        num -= 1  # Decrement the number\n",
        "\n",
        "    return factorial\n",
        "\n",
        "# Example usage\n",
        "number = int(input(\"Enter a number to calculate its factorial: \"))\n",
        "result = calculate_factorial(number)\n",
        "print(f\"The factorial is: {result}\")\n",
        "\n"
      ],
      "metadata": {
        "colab": {
          "base_uri": "https://localhost:8080/",
          "height": 356
        },
        "id": "ZG3CqDEuPuHF",
        "outputId": "571aa9bf-6c9a-4901-e1fc-2c9811b2e06d"
      },
      "execution_count": 33,
      "outputs": [
        {
          "output_type": "error",
          "ename": "KeyboardInterrupt",
          "evalue": "Interrupted by user",
          "traceback": [
            "\u001b[0;31m---------------------------------------------------------------------------\u001b[0m",
            "\u001b[0;31mKeyboardInterrupt\u001b[0m                         Traceback (most recent call last)",
            "\u001b[0;32m<ipython-input-33-d8f91980b437>\u001b[0m in \u001b[0;36m<cell line: 0>\u001b[0;34m()\u001b[0m\n\u001b[1;32m     17\u001b[0m \u001b[0;34m\u001b[0m\u001b[0m\n\u001b[1;32m     18\u001b[0m \u001b[0;31m# Example usage\u001b[0m\u001b[0;34m\u001b[0m\u001b[0;34m\u001b[0m\u001b[0m\n\u001b[0;32m---> 19\u001b[0;31m \u001b[0mnumber\u001b[0m \u001b[0;34m=\u001b[0m \u001b[0mint\u001b[0m\u001b[0;34m(\u001b[0m\u001b[0minput\u001b[0m\u001b[0;34m(\u001b[0m\u001b[0;34m\"Enter a number to calculate its factorial: \"\u001b[0m\u001b[0;34m)\u001b[0m\u001b[0;34m)\u001b[0m\u001b[0;34m\u001b[0m\u001b[0;34m\u001b[0m\u001b[0m\n\u001b[0m\u001b[1;32m     20\u001b[0m \u001b[0mresult\u001b[0m \u001b[0;34m=\u001b[0m \u001b[0mcalculate_factorial\u001b[0m\u001b[0;34m(\u001b[0m\u001b[0mnumber\u001b[0m\u001b[0;34m)\u001b[0m\u001b[0;34m\u001b[0m\u001b[0;34m\u001b[0m\u001b[0m\n\u001b[1;32m     21\u001b[0m \u001b[0mprint\u001b[0m\u001b[0;34m(\u001b[0m\u001b[0;34mf\"The factorial is: {result}\"\u001b[0m\u001b[0;34m)\u001b[0m\u001b[0;34m\u001b[0m\u001b[0;34m\u001b[0m\u001b[0m\n",
            "\u001b[0;32m/usr/local/lib/python3.11/dist-packages/ipykernel/kernelbase.py\u001b[0m in \u001b[0;36mraw_input\u001b[0;34m(self, prompt)\u001b[0m\n\u001b[1;32m   1175\u001b[0m                 \u001b[0;34m\"raw_input was called, but this frontend does not support input requests.\"\u001b[0m\u001b[0;34m\u001b[0m\u001b[0;34m\u001b[0m\u001b[0m\n\u001b[1;32m   1176\u001b[0m             )\n\u001b[0;32m-> 1177\u001b[0;31m         return self._input_request(\n\u001b[0m\u001b[1;32m   1178\u001b[0m             \u001b[0mstr\u001b[0m\u001b[0;34m(\u001b[0m\u001b[0mprompt\u001b[0m\u001b[0;34m)\u001b[0m\u001b[0;34m,\u001b[0m\u001b[0;34m\u001b[0m\u001b[0;34m\u001b[0m\u001b[0m\n\u001b[1;32m   1179\u001b[0m             \u001b[0mself\u001b[0m\u001b[0;34m.\u001b[0m\u001b[0m_parent_ident\u001b[0m\u001b[0;34m[\u001b[0m\u001b[0;34m\"shell\"\u001b[0m\u001b[0;34m]\u001b[0m\u001b[0;34m,\u001b[0m\u001b[0;34m\u001b[0m\u001b[0;34m\u001b[0m\u001b[0m\n",
            "\u001b[0;32m/usr/local/lib/python3.11/dist-packages/ipykernel/kernelbase.py\u001b[0m in \u001b[0;36m_input_request\u001b[0;34m(self, prompt, ident, parent, password)\u001b[0m\n\u001b[1;32m   1217\u001b[0m             \u001b[0;32mexcept\u001b[0m \u001b[0mKeyboardInterrupt\u001b[0m\u001b[0;34m:\u001b[0m\u001b[0;34m\u001b[0m\u001b[0;34m\u001b[0m\u001b[0m\n\u001b[1;32m   1218\u001b[0m                 \u001b[0;31m# re-raise KeyboardInterrupt, to truncate traceback\u001b[0m\u001b[0;34m\u001b[0m\u001b[0;34m\u001b[0m\u001b[0m\n\u001b[0;32m-> 1219\u001b[0;31m                 \u001b[0;32mraise\u001b[0m \u001b[0mKeyboardInterrupt\u001b[0m\u001b[0;34m(\u001b[0m\u001b[0;34m\"Interrupted by user\"\u001b[0m\u001b[0;34m)\u001b[0m \u001b[0;32mfrom\u001b[0m \u001b[0;32mNone\u001b[0m\u001b[0;34m\u001b[0m\u001b[0;34m\u001b[0m\u001b[0m\n\u001b[0m\u001b[1;32m   1220\u001b[0m             \u001b[0;32mexcept\u001b[0m \u001b[0mException\u001b[0m\u001b[0;34m:\u001b[0m\u001b[0;34m\u001b[0m\u001b[0;34m\u001b[0m\u001b[0m\n\u001b[1;32m   1221\u001b[0m                 \u001b[0mself\u001b[0m\u001b[0;34m.\u001b[0m\u001b[0mlog\u001b[0m\u001b[0;34m.\u001b[0m\u001b[0mwarning\u001b[0m\u001b[0;34m(\u001b[0m\u001b[0;34m\"Invalid Message:\"\u001b[0m\u001b[0;34m,\u001b[0m \u001b[0mexc_info\u001b[0m\u001b[0;34m=\u001b[0m\u001b[0;32mTrue\u001b[0m\u001b[0;34m)\u001b[0m\u001b[0;34m\u001b[0m\u001b[0;34m\u001b[0m\u001b[0m\n",
            "\u001b[0;31mKeyboardInterrupt\u001b[0m: Interrupted by user"
          ]
        }
      ]
    },
    {
      "cell_type": "code",
      "source": [],
      "metadata": {
        "id": "cy9h-Rr9S31t"
      },
      "execution_count": null,
      "outputs": []
    }
  ]
}